{
 "cells": [
  {
   "cell_type": "code",
   "execution_count": 1,
   "metadata": {
    "scrolled": true
   },
   "outputs": [
    {
     "name": "stdout",
     "output_type": "stream",
     "text": [
      "Requirement already satisfied: psycopg2-binary in c:\\users\\libraries\\anaconda3\\lib\\site-packages (2.9.3)Note: you may need to restart the kernel to use updated packages.\n",
      "\n"
     ]
    }
   ],
   "source": [
    "pip install psycopg2-binary"
   ]
  },
  {
   "cell_type": "code",
   "execution_count": 2,
   "metadata": {},
   "outputs": [
    {
     "name": "stdout",
     "output_type": "stream",
     "text": [
      "Requirement already satisfied: lxml in c:\\users\\libraries\\anaconda3\\lib\\site-packages (4.6.3)\n",
      "Note: you may need to restart the kernel to use updated packages.\n"
     ]
    }
   ],
   "source": [
    "pip install lxml"
   ]
  },
  {
   "cell_type": "code",
   "execution_count": 3,
   "metadata": {},
   "outputs": [],
   "source": [
    "import psycopg2 as psyco\n",
    "from bs4 import BeautifulSoup\n",
    "import requests as req"
   ]
  },
  {
   "cell_type": "code",
   "execution_count": 4,
   "metadata": {},
   "outputs": [],
   "source": [
    "linenumbers = [104, 105, 108, 109, 111, 113, 114, 115, 116, 117, 118, 122, 126, 127, 132, 133, 141, 142, 143] \n",
    "idnumbers = [501, 521, 522, 502, 393, 503, 504, 524, 525, 512, 527, 528, 733, 513, 509, 531, 532, 533, 534]\n",
    "paths = [str(linenumbers[i])+'/'+str(idnumbers[i])+'#edit-group-stop-list' for i in range(len(linenumbers))]"
   ]
  },
  {
   "cell_type": "code",
   "execution_count": 11,
   "metadata": {},
   "outputs": [],
   "source": [
    "filepath = 'https://transportation.umd.edu/shuttle-um/{}'\n",
    "stopdict = dict()\n",
    "for i in range(len(linenumbers)):\n",
    "    url = req.get(filepath.format(paths[i])).text\n",
    "    soup = BeautifulSoup(url, 'html.parser')\n",
    "    soup.prettify()\n",
    "    #stoplist += soup.find('tbody').findAll('td')[2::3]\n",
    "    for j in soup.find('tbody').findAll('td')[2::3]:\n",
    "        j = j.text.replace(u'\\xa0', u' ').strip()\n",
    "        if(j not in stopdict):\n",
    "            stopdict[j] = set()\n",
    "        stopdict[j].add(linenumbers[i])\n",
    "        "
   ]
  },
  {
   "cell_type": "code",
   "execution_count": null,
   "metadata": {},
   "outputs": [],
   "source": [
    "# conn = psyco.connect(\"dbname=so-basicly user=spatre1\")\n",
    "# try:\n",
    "#     cur = conn.cursor()\n",
    "#     cur.execute(\"CREATE TABLE ShuttleStops(ID INT NOT NULL PRIMARY KEY, Name STRING, Pred INT[], Routes INT[])\")\n",
    "    \n",
    "# except:\n",
    "    \n"
   ]
  },
  {
   "cell_type": "code",
   "execution_count": null,
   "metadata": {},
   "outputs": [],
   "source": []
  }
 ],
 "metadata": {
  "kernelspec": {
   "display_name": "Python 3 (ipykernel)",
   "language": "python",
   "name": "python3"
  },
  "language_info": {
   "codemirror_mode": {
    "name": "ipython",
    "version": 3
   },
   "file_extension": ".py",
   "mimetype": "text/x-python",
   "name": "python",
   "nbconvert_exporter": "python",
   "pygments_lexer": "ipython3",
   "version": "3.9.7"
  }
 },
 "nbformat": 4,
 "nbformat_minor": 4
}
