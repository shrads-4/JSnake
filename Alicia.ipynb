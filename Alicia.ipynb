{
 "cells": [
  {
   "cell_type": "code",
   "execution_count": 21,
   "metadata": {
    "scrolled": true
   },
   "outputs": [
    {
     "name": "stdout",
     "output_type": "stream",
     "text": [
      "Requirement already satisfied: psycopg2-binary in c:\\users\\libraries\\anaconda3\\lib\\site-packages (2.9.3)\n",
      "Note: you may need to restart the kernel to use updated packages.\n"
     ]
    }
   ],
   "source": [
    "pip install psycopg2-binary"
   ]
  },
  {
   "cell_type": "code",
   "execution_count": 22,
   "metadata": {},
   "outputs": [
    {
     "name": "stdout",
     "output_type": "stream",
     "text": [
      "Requirement already satisfied: lxml in c:\\users\\libraries\\anaconda3\\lib\\site-packages (4.6.3)\n",
      "Note: you may need to restart the kernel to use updated packages.\n"
     ]
    }
   ],
   "source": [
    "pip install lxml"
   ]
  },
  {
   "cell_type": "code",
   "execution_count": 23,
   "metadata": {},
   "outputs": [],
   "source": [
    "import psycopg2 as psyco\n",
    "from bs4 import BeautifulSoup\n",
    "import requests as req"
   ]
  },
  {
   "cell_type": "code",
   "execution_count": 24,
   "metadata": {},
   "outputs": [],
   "source": [
    "routenumbers = [104, 105, 108, 109, 111, 113, 114, 115, 116, 117, 118, 122, 126, 127, 132, 133, 141, 142, 143] \n",
    "idnumbers = [501, 521, 522, 502, 393, 503, 504, 524, 525, 512, 527, 528, 733, 513, 509, 531, 532, 533, 534]\n",
    "paths = [str(routenumbers[i])+'/'+str(idnumbers[i])+'#edit-group-stop-list' for i in range(len(routenumbers))]"
   ]
  },
  {
   "cell_type": "code",
   "execution_count": 25,
   "metadata": {},
   "outputs": [],
   "source": [
    "filepath = 'https://transportation.umd.edu/shuttle-um/{}'\n",
    "souplist = []\n",
    "stopdict = dict()\n",
    "routenames = {}\n",
    "for i in range(len(routenumbers)):\n",
    "    #Create beautifulsoup object representing route page, append to soup object list\n",
    "    url = req.get(filepath.format(paths[i])).text\n",
    "    soup = BeautifulSoup(url, 'html.parser')\n",
    "    soup.prettify()\n",
    "    souplist.append(soup)"
   ]
  },
  {
   "cell_type": "code",
   "execution_count": 26,
   "metadata": {},
   "outputs": [],
   "source": [
    "for i in range(len(souplist)):\n",
    "    ##Access current soup object\n",
    "    soupobj = souplist[i]\n",
    "    \n",
    "    #Scrape routenames\n",
    "    routenames[routenumbers[i]] = soupobj.find(\"h1\", class_=\"page-title\").find(\"span\").text\n",
    "    \n",
    "    #Scrape stops on route\n",
    "    for j in soupobj.find('tbody').findAll('td')[2::3]:\n",
    "        j = j.text.replace(u'\\xa0', u' ').strip()\n",
    "        if(j not in stopdict):\n",
    "            stopdict[j] = set()\n",
    "        stopdict[j].add(routenumbers[i])"
   ]
  },
  {
   "cell_type": "code",
   "execution_count": 38,
   "metadata": {},
   "outputs": [
    {
     "name": "stdout",
     "output_type": "stream",
     "text": [
      "{104: 'College Park Metro', 105: 'Campus Parking Connector', 108: 'Adelphi', 109: 'River Road', 111: 'Silver Spring', 113: 'Hyattsville', 114: 'University View', 115: 'Orange', 116: 'Purple', 117: ' Blue', 118: 'Gold', 122: 'Green', 126: 'New Carrollton', 127: 'Mazza GrandMarc', 132: 'The Varsity', 133: 'Grocery Shopping Shuttle', 141: 'Gaithersburg Park  Ride', 142: 'Columbia Park  Ride', 143: 'Greenbelt'}\n"
     ]
    }
   ],
   "source": [
    "print(routenames)\n",
    "routenames[141]=routenames[141].replace('&','')\n",
    "routenames[142]=routenames[142].replace('&','')"
   ]
  },
  {
   "cell_type": "code",
   "execution_count": 58,
   "metadata": {},
   "outputs": [
    {
     "ename": "UndefinedColumn",
     "evalue": "column \"collegeparkmetro\" does not exist\n",
     "output_type": "error",
     "traceback": [
      "\u001b[1;31m---------------------------------------------------------------------------\u001b[0m",
      "\u001b[1;31mUndefinedColumn\u001b[0m                           Traceback (most recent call last)",
      "\u001b[1;32mC:\\Users\\LIBRAR~1\\AppData\\Local\\Temp/ipykernel_5452/700051889.py\u001b[0m in \u001b[0;36m<module>\u001b[1;34m\u001b[0m\n\u001b[0;32m     18\u001b[0m         \u001b[1;31m#Routes\u001b[0m\u001b[1;33m\u001b[0m\u001b[1;33m\u001b[0m\u001b[0m\n\u001b[0;32m     19\u001b[0m         \u001b[1;32mfor\u001b[0m \u001b[0mkey\u001b[0m\u001b[1;33m,\u001b[0m\u001b[0mvalue\u001b[0m \u001b[1;32min\u001b[0m \u001b[0mroutenames\u001b[0m\u001b[1;33m.\u001b[0m\u001b[0mitems\u001b[0m\u001b[1;33m(\u001b[0m\u001b[1;33m)\u001b[0m\u001b[1;33m:\u001b[0m\u001b[1;33m\u001b[0m\u001b[1;33m\u001b[0m\u001b[0m\n\u001b[1;32m---> 20\u001b[1;33m             \u001b[0mcur\u001b[0m\u001b[1;33m.\u001b[0m\u001b[0mexecute\u001b[0m\u001b[1;33m(\u001b[0m\u001b[1;34m\"INSERT INTO Route VALUES({},{});\"\u001b[0m\u001b[1;33m.\u001b[0m\u001b[0mformat\u001b[0m\u001b[1;33m(\u001b[0m\u001b[0mkey\u001b[0m\u001b[1;33m,\u001b[0m\u001b[0mvalue\u001b[0m\u001b[1;33m.\u001b[0m\u001b[0mreplace\u001b[0m\u001b[1;33m(\u001b[0m\u001b[1;34m\" \"\u001b[0m\u001b[1;33m,\u001b[0m\u001b[1;34m\"\"\u001b[0m\u001b[1;33m)\u001b[0m\u001b[1;33m)\u001b[0m\u001b[1;33m)\u001b[0m\u001b[1;33m\u001b[0m\u001b[1;33m\u001b[0m\u001b[0m\n\u001b[0m\u001b[0;32m     21\u001b[0m \u001b[1;33m\u001b[0m\u001b[0m\n\u001b[0;32m     22\u001b[0m         \u001b[1;31m#conn.commit()\u001b[0m\u001b[1;33m\u001b[0m\u001b[1;33m\u001b[0m\u001b[0m\n",
      "\u001b[1;31mUndefinedColumn\u001b[0m: column \"collegeparkmetro\" does not exist\n"
     ]
    }
   ],
   "source": [
    "conn = psyco.connect(dbname=\"so-basicly-1217.defaultdb\", host = 'free-tier14.aws-us-east-1.cockroachlabs.cloud', user=\"snesun\", password=\"GPmRJ87pVWztddyVQ9L0rQ\", port = 26257)\n",
    "with conn:\n",
    "    with conn.cursor() as cur:\n",
    "        cur = conn.cursor()\n",
    "        cur.execute(\"CREATE TABLE ShuttleStops(ID INT NOT NULL PRIMARY KEY, Name VARCHAR(100), Routes VARCHAR(100));\")\n",
    "        cur.execute(\"CREATE TABLE Route(ID INT NOT NULL PRIMARY KEY, Name VARCHAR(100));\")\n",
    "        for route in routenumbers:\n",
    "           cur.execute(\"CREATE TABLE {}(ID INT NOT NULL PRIMARY KEY, Outbound BOOLEAN, Time VARCHAR(10), Day VARCHAR(10));\".format(routenames[route].replace(\" \",\"\")))\n",
    "\n",
    "        ShuttleStops\n",
    "        i = 1\n",
    "        for key in stopdict:\n",
    "            cur.execute(\"INSERT INTO ShuttleStops(ID, Name, Routes) VALUES({0},{1},{2})\".format(str(i),key.replace(\" \",\"\"), \"\".join(list(str(val) for val in value))))\n",
    "            i += 1\n",
    "        cur.execute(\"SHOW TABLES;\")\n",
    "        print(cur.fetchall())\n",
    "        \n",
    "        Routes\n",
    "        for key,value in routenames.items():\n",
    "            cur.execute(\"INSERT INTO Route VALUES({},{});\".format(key,value.replace(\" \",\"\")))\n",
    "        \n",
    "        conn.commit()\n",
    "        cur.close()"
   ]
  },
  {
   "cell_type": "code",
   "execution_count": null,
   "metadata": {},
   "outputs": [],
   "source": []
  }
 ],
 "metadata": {
  "kernelspec": {
   "display_name": "Python 3 (ipykernel)",
   "language": "python",
   "name": "python3"
  },
  "language_info": {
   "codemirror_mode": {
    "name": "ipython",
    "version": 3
   },
   "file_extension": ".py",
   "mimetype": "text/x-python",
   "name": "python",
   "nbconvert_exporter": "python",
   "pygments_lexer": "ipython3",
   "version": "3.9.7"
  }
 },
 "nbformat": 4,
 "nbformat_minor": 4
}
