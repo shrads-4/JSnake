{
 "cells": [
  {
   "cell_type": "code",
   "execution_count": 1,
   "metadata": {
    "scrolled": true
   },
   "outputs": [
    {
     "name": "stdout",
     "output_type": "stream",
     "text": [
      "Requirement already satisfied: psycopg2-binary in c:\\programdata\\anaconda3\\lib\\site-packages (2.9.3)\n",
      "Note: you may need to restart the kernel to use updated packages.\n"
     ]
    }
   ],
   "source": [
    "pip install psycopg2-binary"
   ]
  },
  {
   "cell_type": "code",
   "execution_count": 2,
   "metadata": {},
   "outputs": [
    {
     "name": "stdout",
     "output_type": "stream",
     "text": [
      "Requirement already satisfied: lxml in c:\\programdata\\anaconda3\\lib\\site-packages (4.5.2)\n",
      "Note: you may need to restart the kernel to use updated packages.\n"
     ]
    }
   ],
   "source": [
    "pip install lxml"
   ]
  },
  {
   "cell_type": "code",
   "execution_count": 3,
   "metadata": {},
   "outputs": [],
   "source": [
    "import psycopg2 as psyco\n",
    "from bs4 import BeautifulSoup\n",
    "import requests as req"
   ]
  },
  {
   "cell_type": "code",
   "execution_count": 4,
   "metadata": {},
   "outputs": [],
   "source": [
    "routenumbers = [104, 105, 108, 109, 111, 113, 114, 115, 116, 117, 118, 122, 126, 127, 132, 133, 141, 142, 143] \n",
    "idnumbers = [501, 521, 522, 502, 393, 503, 504, 524, 525, 512, 527, 528, 733, 513, 509, 531, 532, 533, 534]\n",
    "paths = [str(routenumbers[i])+'/'+str(idnumbers[i])+'#edit-group-stop-list' for i in range(len(routenumbers))]"
   ]
  },
  {
   "cell_type": "code",
   "execution_count": 9,
   "metadata": {},
   "outputs": [],
   "source": [
    "filepath = 'https://transportation.umd.edu/shuttle-um/{}'\n",
    "souplist = []\n",
    "stopdict = dict()\n",
    "routenames = {}\n",
    "for i in range(len(routenumbers)):\n",
    "    #Create beautifulsoup object representing route page, append to soup object list\n",
    "    url = req.get(filepath.format(paths[i])).text\n",
    "    soup = BeautifulSoup(url, 'html.parser')\n",
    "    soup.prettify()\n",
    "    souplist.append(soup)"
   ]
  },
  {
   "cell_type": "code",
   "execution_count": 22,
   "metadata": {},
   "outputs": [],
   "source": [
    "for i in range(len(souplist)):\n",
    "    ##Access current soup object\n",
    "    soupobj = souplist[i]\n",
    "    \n",
    "    #Scrape routenames\n",
    "    routenames[routenumbers[i]] = soupobj.find(\"h1\", class_=\"page-title\").find(\"span\").text\n",
    "    \n",
    "    #Scrape stops on route\n",
    "    for j in soupobj.find('tbody').findAll('td')[2::3]:\n",
    "        j = j.text.replace(u'\\xa0', u' ').strip()\n",
    "        if(j not in stopdict):\n",
    "            stopdict[j] = set()\n",
    "        stopdict[j].add(routenumbers[i])"
   ]
  },
  {
   "cell_type": "code",
   "execution_count": 23,
   "metadata": {},
   "outputs": [
    {
     "name": "stdout",
     "output_type": "stream",
     "text": [
      "{104: 'College Park Metro', 105: 'Campus Parking Connector', 108: 'Adelphi', 109: 'River Road', 111: 'Silver Spring', 113: 'Hyattsville', 114: 'University View', 115: 'Orange', 116: 'Purple', 117: ' Blue', 118: 'Gold', 122: 'Green', 126: 'New Carrollton', 127: 'Mazza GrandMarc', 132: 'The Varsity', 133: 'Grocery Shopping Shuttle', 141: 'Gaithersburg Park & Ride', 142: 'Columbia Park & Ride', 143: 'Greenbelt'}\n"
     ]
    }
   ],
   "source": [
    "print()"
   ]
  },
  {
   "cell_type": "code",
   "execution_count": null,
   "metadata": {},
   "outputs": [],
   "source": []
  }
 ],
 "metadata": {
  "kernelspec": {
   "display_name": "Python 3",
   "language": "python",
   "name": "python3"
  },
  "language_info": {
   "codemirror_mode": {
    "name": "ipython",
    "version": 3
   },
   "file_extension": ".py",
   "mimetype": "text/x-python",
   "name": "python",
   "nbconvert_exporter": "python",
   "pygments_lexer": "ipython3",
   "version": "3.8.3"
  }
 },
 "nbformat": 4,
 "nbformat_minor": 4
}
