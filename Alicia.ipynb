{
 "cells": [
  {
   "cell_type": "code",
   "execution_count": 19,
   "metadata": {
    "scrolled": true
   },
   "outputs": [
    {
     "name": "stdout",
     "output_type": "stream",
     "text": [
      "Requirement already satisfied: psycopg2-binary in c:\\programdata\\anaconda3\\lib\\site-packages (2.9.3)\n",
      "Note: you may need to restart the kernel to use updated packages.\n"
     ]
    }
   ],
   "source": [
    "pip install psycopg2-binary"
   ]
  },
  {
   "cell_type": "code",
   "execution_count": 20,
   "metadata": {},
   "outputs": [
    {
     "name": "stdout",
     "output_type": "stream",
     "text": [
      "Requirement already satisfied: lxml in c:\\programdata\\anaconda3\\lib\\site-packages (4.5.2)\n",
      "Note: you may need to restart the kernel to use updated packages.\n"
     ]
    }
   ],
   "source": [
    "pip install lxml"
   ]
  },
  {
   "cell_type": "code",
   "execution_count": 103,
   "metadata": {},
   "outputs": [],
   "source": [
    "import psycopg2 as psyco\n",
    "from bs4 import BeautifulSoup\n",
    "import requests as req"
   ]
  },
  {
   "cell_type": "code",
   "execution_count": 22,
   "metadata": {},
   "outputs": [],
   "source": [
    "linenumbers = [104, 105, 108, 109, 111, 113, 114, 115, 116, 117, 118, 122, 126, 127, 132, 133, 141, 142, 143] \n",
    "idnumbers = [501, 521, 522, 502, 393, 503, 504, 524, 525, 512, 527, 528, 733, 513, 509, 531, 532, 533, 534]\n",
    "paths = [str(linenumbers[i])+'/'+str(idnumbers[i])+'#edit-group-stop-list' for i in range(len(linenumbers))]"
   ]
  },
  {
   "cell_type": "code",
   "execution_count": 101,
   "metadata": {},
   "outputs": [],
   "source": [
    "filepath = 'https://transportation.umd.edu/shuttle-um/{}'\n",
    "stoplist = []\n",
    "for i in range(len(linenumbers)):\n",
    "    url = req.get(filepath.format(paths[i])).text\n",
    "    soup = BeautifulSoup(url, 'html.parser')\n",
    "    soup.prettify()\n",
    "    stoplist += soup.find('tbody').findAll('td')[2::3]"
   ]
  },
  {
   "cell_type": "code",
   "execution_count": 102,
   "metadata": {},
   "outputs": [
    {
     "name": "stdout",
     "output_type": "stream",
     "text": [
      "{'Riverdale Road and Martins Lane', 'Mandan Road at Glen Oaks Apartments', 'Lot Y and Chapel Drive', 'Greenmead Drive at Maryland 4-H', \"The Mall at Prince George's\", 'Lastner Lane and Ivy Lane', 'USDA', 'University Methodist Church', 'Riverdale Road and Eastpine Drive', 'Baltimore Avenue and Hamilton Street', 'Baltimore Avenue and Berwyn Road', 'Ridge Road at Green Ridge House Apartments', 'Good Luck Road and Ian Street', 'Riverdale Road and Auburn Avenue', 'University Club Apartments', 'Mt. Pisgah Road at Chateau Apartments', 'Cumberland Hall', 'America Boulevard at Regal Cinemas Hyattsville', '60th Avenue and Greenbelt Road', 'Ora Glen Drive and Hanover Parkway', 'Stamp Student Union - Slip', 'Metzerott Road and University Boulevard', 'Farragut Street and Rhode Island Avenue', 'Hoff Theater', 'Baltimore Avenue and Sheridan Street', 'Rossborough Lane and Rhode Island Avenue', 'Lakecrest Drive and Lakeside Drive', 'Pontiac Street and 63rd Avenue', 'Lastner Lane and Julian Court', 'Art/Sociology Building', '85th Avenue at Lenox Court Apartments', 'Flower Avenue and Carroll Avenue', 'Queensbury Road and 39th Place', 'Riverdale Road and Lamont Drive', 'College Park Academy', 'Farragut Street and 42nd Place', 'Rhode Island Avenue and Hollywood Road', 'Metzerott Road and Adelphi Road', 'Lamont Drive and Donoghue Drive', '42nd Avenue and Oglethorpe Street', 'Riverdale Road at Wildercroft Shopping Center', 'Stadium Drive Garage', 'Union Drive at Lot 1b', 'Adelphi Road and Van Buren Street', 'Regents Drive at XFINITY Center', 'Graduate Gardens at 4327 Rowalt Drive', 'Campus Drive at Math Slip', 'New Hampshire Avenue and Adelphi Road', 'Auburn Avenue and Riverdale Road', 'Hagerstown Hall', 'Hanover Parkway and Greenbelt Road', 'Lamont Drive and Carrollton Parkway', 'Baltimore Avenue at Riverdale Park Station', 'Graduate Gardens at 4315 Rowalt Drive', 'Westchester Park Circle', 'Fraternity Row #11', 'Preinkert Drive at Lot MV', 'West Diamond Avenue Park & Ride Lot', 'Carroll Avenue and Garland Avenue', 'Baltimore Avenue and Underwood Street', 'Baltimore Avenue at University Park Town Hall', 'University Boulevard and Tulane Drive', 'Ridge Road and Plateau Place', 'Lakeside Drive and Westway', 'Riverdale Road and Mahoney Drive', 'Metzerott Road at Presidential Towers', 'Dorchester Hall', 'Valley Drive at Stadium Drive Garage', 'Ridge Road and Southway', 'Belcrest Road and Queens Chapel Road', 'Riverdale Road and 62nd Place', 'Mandan Road and Canning Terrace', 'Cunningham Drive and Pontiac Street', 'Anne Arundel Hall', 'Shoemaker Building', 'Adelphi Road and Wells Boulevard', 'University View', 'Knox Road and Hopkins Avenue', 'UMUC-College Park Marriott', 'River Road and Rivertech Court', 'American Center for Physics', 'M-Square', 'Leonardtown Community Center', 'Lakecrest Drive and Greenbelt Road', 'Baltimore Avenue and Amherst Road', 'Baltimore Avenue at The Varsity', 'Knox Road and Yale Avenue', 'Riverdale Road at Fountain Club Apartments', 'Carroll Avenue and Chester Street', \"Prince George's Community College\", 'Auburn Avenue and Chestnut Avenue', 'Regents Drive and Stadium Drive', 'Auburn Avenue and 3rd Street', 'Ridge Road and Gardenway', '60th Avenue and Ruatan Street', 'Regents Drive and Farm Drive', 'Flower Avenue and Plymouth Street', 'Varsity Team House', 'Riverdale Road at St. Judes Lutheran Church', 'University Boulevard and Riggs Road', 'Westbrook Drive and Oglethorpe Street', 'Lamont Drive and Quentin Street', 'Edgewood Road and Rhode Island Avenue', \"Metzerott Road and St. Andrew's Place\", 'University Boulevard and 14th Avenue', 'Baltimore Avenue and Gallatin Street', 'Knox Road and Princeton Avenue', 'Union Lane and Fieldhouse Drive', 'Courtyards #400', 'University Boulevard at Graduate Hills', 'Flower Avenue and Kennebec Avenue', 'New Hampshire Avenue and Oakview Drive', 'Benjamin Building', 'Courtyards #300', 'TEMPORARILY NOT SERVICED (College Park Shopping Center)', 'Flower Avenue and Domer Avenue', 'Adelphi Road at Graduate Hills Apartments', 'Paint Branch Drive and Technology Drive', 'Riverdale Road and 67th Avenue', 'Metzerott Road and 24th Avenue', 'Stop Location', 'River Road at American Center for Physics', 'Riverdale Road and Finns Lane', \"Prince George's Plaza Metro Station\", '85th Avenue and Longfellow Street', 'Broken Land Park & Ride East Lot', 'Denton Hall', 'College Ave. and Princeton Ave.', 'TEMPORARILY NOT SERVICED (University Boulevard and 15th Avenue)', 'Westbrook Drive and Madison Street', 'Greenbelt Road at Severn Building', 'Rhode Island Avenue and Norwich Road', 'Division of IT', '42nd Avenue and Jefferson Street', 'Shuttle-UM Base', 'Raytheon', 'Takoma-Langley Crossroads Transit Center', 'Baltimore Avenue and Oglethorpe Street', 'Wayne Avenue and Dale Drive', 'Baltimore Avenue and Hartwick Road', 'Campus Drive at Lot 3', 'Ridge Road and Ivy Lane', 'Greenbelt Road at Greenway Center', 'Adelphi Road and Toledo Road', 'Paint Branch Drive at Lot 4b', 'Knox Road and Rhode Island Avenue', '85th Avenue at Carrollton Manor Apartments', 'Ora Glen Drive and Greenbrook Drive', 'La Plata Hall', 'College Park – UMD Metro Station', 'Flower Avenue and Hudson Avenue', 'Campus Drive at M-Circle', 'Westbrook Drive and Powhatan Street', 'Rhode Island Avenue and Fox Street', 'Ridge Road and Research Road', '42nd Avenue and Madison Street', 'Westway and Ridge Road', '42nd Avenue and Queensbury Road', 'Metzerott Road at UMD Observatory', 'Riverdale Road and 63rd Avenue', 'Queensbury Road and 44th Place', 'New Carrollton Metro Station', 'University Boulevard at Campus Gardens', 'South Campus Commons 3 and 4', 'College Ave. and Rhode Island Ave.', 'Metzerott Road and Greenmead Drive', 'Mitchell Building', 'Memorial Chapel', 'Wicomico Hall', 'Montgomery Hall', 'Graduate Hills at 3404 Tulane Drive', 'Cambridge Hall', 'Preinkert Drive at Lot A', 'Auburn Avenue and 1st Street', 'Carroll Avenue and Glenside Drive', 'Queensbury Road and 42nd Place', 'Merrimac Drive and Lockney Avenue', 'Baltimore Avenue and Berwyn House Road', 'Carroll Avenue and Wildwood Drive', 'Good Luck Road at Lamont Elementary School', 'Stadium Drive at Atlantic Building', 'Graduate Hills at 3410 Tulane Drive', 'University Boulevard at Adelphi Plaza', 'Mandan Road and Hanover Parkway', 'Merrimac Drive and University Boulevard', 'Metzerott Road at System Administration', 'Edgewood Road and 49th Avenue', 'Adelphi Road and Wells Parkway', 'Annapolis Road and Riverdale Road', 'Harkins Road and Annapolis Road', 'Wayne Avenue and Manchester Place', 'Greenmead Drive and Metzerott Road', 'Van Munching Hall', 'Westbrook Drive and Lamont Drive', 'Temporarily not serviced (University Boulevard and Riggs Road)', 'Riverdale Road and 67th Court', 'Greenbelt Road and Greenbelt Station Parkway', 'Greenbelt Road and 60th Avenue', '85th Avenue and Legation Street', 'Wayne Avenue and Fenton Street', 'South Campus Commons 1 and 2', 'Good Luck Road and Nashville Road', 'Graduate Hills at 3424 Tulane Drive', 'College Ave. and Hopkins Ave.', 'Toledo Road and Adelphi Road', 'Stadium Drive and University Boulevard', 'Adelphi Road at Northwestern High School', 'Campus Drive at UMUC Lot 19', 'Hanover Parkway at Eleanor Roosevelt High School', 'University Boulevard and 25th Avenue', 'Metzerott Road at Archives II', 'Glenn L. Martin Wind Tunnel', 'Metzerott Road at The Delano Apartments', 'Adelphi Road and Campus Drive', 'LDS Institute of Religion', 'East-West Highway and West Beale Circle', 'Mazza GrandMarc', 'Ritchie Coliseum', 'BioSciences Research Building', 'Rhode Island Ave. and Knox Road', 'Ridge Road and Eastway', 'Paint Branch Drive and Regents Drive', 'Ivy Lane and Ridge Road', 'Rhode Island Ave. and College Ave.', 'Rhode Island Avenue and College Avenue', 'Baltimore Avenue at National Guard Armory', 'Toledo Road and Belcrest Road', 'Somerset Hall', 'Metzerott Road and Riggs Road', 'Baltimore Avenue and Longfellow Street', 'Riverdale Road at Heritage Square Apartments', 'Carroll Avenue and Anne Street', 'Regents Drive Garage', 'Riverdale Road and 64th Avenue', 'Metzerott Road and New Hampshire Avenue', 'Rhode Island Avenue at Hollywood Shopping Center', 'Baltimore Avenue and Hartwick Rd.', 'College Park Metro-UMD at Calvert Road', 'Rhode Island Avenue and Cherokee Street', 'New Hampshire Avenue and Fox Street', 'Ora Glen Drive and Morrison Drive', 'Rhode Island Avenue and University Boulevard', 'Ivy Lane and Lastner Lane', 'College Park Shopping Center', 'America Boulevard at Safeway', 'Pontiac Street and Cunningham Drive', 'Baltimore Avenue and Quebec Street', 'Guilford Drive and Rowalt Drive', 'East-West Highway and Taylor Road', 'Fraternity Row #5', 'South Campus Commons 5 and 6', 'Silver Spring Metro Station', 'Lamont Drive and Larchwood Street', 'Regents Drive and Paint Branch Drive', 'Wayne Avenue and Sligo Creek Parkway', 'Courtyards #500', 'Paint Branch Drive and Stadium Drive', 'Stamp Student Union - Lot HH', 'A.V. Williams Building', 'Metzerott Road and 36th Avenue', 'Flower Avenue at Washington Adventist University', 'Elkton Hall'}\n"
     ]
    }
   ],
   "source": [
    "for i in range(len(stoplist)):\n",
    "    stoplist[i] = stoplist[i].text.replace(u'\\xa0', u' ').strip()\n",
    "stoplist = list(set(stoplist))\n",
    "for i in range(len(stoplist)):\n",
    "    \n",
    "print(stoplist)"
   ]
  },
  {
   "cell_type": "code",
   "execution_count": null,
   "metadata": {},
   "outputs": [],
   "source": [
    "# Connect to your postgres DB\n",
    "conn = psycopg2.connect(\"dbname= user=postgres\")\n",
    "\n",
    "# Open a cursor to perform database operations\n",
    "cur = conn.cursor()\n",
    "\n",
    "# Execute a query\n",
    "cur.execute(\"SELECT * FROM my_data\")\n",
    "\n",
    "# Retrieve query results\n",
    "records = cur.fetchall()"
   ]
  }
 ],
 "metadata": {
  "kernelspec": {
   "display_name": "Python 3",
   "language": "python",
   "name": "python3"
  },
  "language_info": {
   "codemirror_mode": {
    "name": "ipython",
    "version": 3
   },
   "file_extension": ".py",
   "mimetype": "text/x-python",
   "name": "python",
   "nbconvert_exporter": "python",
   "pygments_lexer": "ipython3",
   "version": "3.8.3"
  }
 },
 "nbformat": 4,
 "nbformat_minor": 4
}
